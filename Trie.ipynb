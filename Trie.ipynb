{
  "nbformat": 4,
  "nbformat_minor": 0,
  "metadata": {
    "colab": {
      "provenance": [],
      "authorship_tag": "ABX9TyMZ6o2xSGoLmxJEj4ux02yE",
      "include_colab_link": true
    },
    "kernelspec": {
      "name": "python3",
      "display_name": "Python 3"
    },
    "language_info": {
      "name": "python"
    }
  },
  "cells": [
    {
      "cell_type": "markdown",
      "metadata": {
        "id": "view-in-github",
        "colab_type": "text"
      },
      "source": [
        "<a href=\"https://colab.research.google.com/github/newmantic/Trie/blob/main/Trie.ipynb\" target=\"_parent\"><img src=\"https://colab.research.google.com/assets/colab-badge.svg\" alt=\"Open In Colab\"/></a>"
      ]
    },
    {
      "cell_type": "code",
      "execution_count": 1,
      "metadata": {
        "id": "MUv9N_RmhOsb"
      },
      "outputs": [],
      "source": [
        "class TrieNode:\n",
        "    def __init__(self):\n",
        "        self.children = {}\n",
        "        self.is_end_of_word = False\n",
        "\n",
        "class Trie:\n",
        "    def __init__(self):\n",
        "        self.root = TrieNode()\n",
        "\n",
        "    def insert(self, word):\n",
        "        node = self.root\n",
        "        for char in word:\n",
        "            if char not in node.children:\n",
        "                node.children[char] = TrieNode()\n",
        "            node = node.children[char]\n",
        "        node.is_end_of_word = True\n",
        "\n",
        "    def search(self, word):\n",
        "        node = self.root\n",
        "        for char in word:\n",
        "            if char not in node.children:\n",
        "                return False\n",
        "            node = node.children[char]\n",
        "        return node.is_end_of_word\n",
        "\n",
        "    def starts_with(self, prefix):\n",
        "        node = self.root\n",
        "        for char in prefix:\n",
        "            if char not in node.children:\n",
        "                return False\n",
        "            node = node.children[char]\n",
        "        return True\n",
        "\n",
        "    def delete(self, word):\n",
        "        def _delete(node, word, depth):\n",
        "            if not node:\n",
        "                return False\n",
        "            if depth == len(word):\n",
        "                if node.is_end_of_word:\n",
        "                    node.is_end_of_word = False\n",
        "                return len(node.children) == 0\n",
        "            char = word[depth]\n",
        "            if char in node.children:\n",
        "                should_delete_child = _delete(node.children[char], word, depth + 1)\n",
        "                if should_delete_child:\n",
        "                    del node.children[char]\n",
        "                    return len(node.children) == 0\n",
        "            return False\n",
        "\n",
        "        _delete(self.root, word, 0)\n",
        "\n",
        "    def search_with_wildcard(self, word):\n",
        "        def _search(node, word, depth):\n",
        "            if depth == len(word):\n",
        "                return node.is_end_of_word\n",
        "            char = word[depth]\n",
        "            if char == '.':\n",
        "                for child in node.children.values():\n",
        "                    if _search(child, word, depth + 1):\n",
        "                        return True\n",
        "                return False\n",
        "            else:\n",
        "                if char in node.children:\n",
        "                    return _search(node.children[char], word, depth + 1)\n",
        "                else:\n",
        "                    return False\n",
        "\n",
        "        return _search(self.root, word, 0)"
      ]
    },
    {
      "cell_type": "code",
      "source": [
        "def test_case_1():\n",
        "    trie = Trie()\n",
        "    trie.insert(\"apple\")\n",
        "    trie.insert(\"app\")\n",
        "    trie.insert(\"bat\")\n",
        "    trie.insert(\"ball\")\n",
        "\n",
        "    print(trie.search(\"apple\"))  # Expected: True\n",
        "    print(trie.search(\"app\"))    # Expected: True\n",
        "    print(trie.search(\"appl\"))   # Expected: False\n",
        "    print(trie.search(\"bat\"))    # Expected: True\n",
        "    print(trie.search(\"ball\"))   # Expected: True\n",
        "    print(trie.search(\"balls\"))  # Expected: False\n",
        "\n",
        "test_case_1()"
      ],
      "metadata": {
        "colab": {
          "base_uri": "https://localhost:8080/"
        },
        "id": "vPUFB3q4ifup",
        "outputId": "57270ce1-dc34-47a3-9242-4415f28e327d"
      },
      "execution_count": 2,
      "outputs": [
        {
          "output_type": "stream",
          "name": "stdout",
          "text": [
            "True\n",
            "True\n",
            "False\n",
            "True\n",
            "True\n",
            "False\n"
          ]
        }
      ]
    },
    {
      "cell_type": "code",
      "source": [
        "def test_case_2():\n",
        "    trie = Trie()\n",
        "    trie.insert(\"apple\")\n",
        "    trie.insert(\"app\")\n",
        "    trie.insert(\"bat\")\n",
        "    trie.insert(\"ball\")\n",
        "\n",
        "    print(trie.starts_with(\"app\"))  # Expected: True\n",
        "    print(trie.starts_with(\"bat\"))  # Expected: True\n",
        "    print(trie.starts_with(\"bal\"))  # Expected: True\n",
        "    print(trie.starts_with(\"ban\"))  # Expected: False\n",
        "    print(trie.starts_with(\"a\"))    # Expected: True\n",
        "    print(trie.starts_with(\"b\"))    # Expected: True\n",
        "    print(trie.starts_with(\"c\"))    # Expected: False\n",
        "\n",
        "test_case_2()"
      ],
      "metadata": {
        "colab": {
          "base_uri": "https://localhost:8080/"
        },
        "id": "7Bf8wlcziijs",
        "outputId": "33efabba-1792-4203-a6d7-a0cba8f42d14"
      },
      "execution_count": 3,
      "outputs": [
        {
          "output_type": "stream",
          "name": "stdout",
          "text": [
            "True\n",
            "True\n",
            "True\n",
            "False\n",
            "True\n",
            "True\n",
            "False\n"
          ]
        }
      ]
    },
    {
      "cell_type": "code",
      "source": [
        "def test_case_3():\n",
        "    trie = Trie()\n",
        "    trie.insert(\"apple\")\n",
        "    trie.insert(\"app\")\n",
        "    trie.insert(\"bat\")\n",
        "    trie.insert(\"ball\")\n",
        "\n",
        "    trie.delete(\"app\")\n",
        "    print(trie.search(\"app\"))    # Expected: False (since \"app\" was deleted)\n",
        "    print(trie.search(\"apple\"))  # Expected: True (since \"apple\" is still there)\n",
        "    trie.delete(\"apple\")\n",
        "    print(trie.search(\"apple\"))  # Expected: False (since \"apple\" was deleted)\n",
        "    print(trie.search(\"bat\"))    # Expected: True (since \"bat\" is still there)\n",
        "    trie.delete(\"ball\")\n",
        "    print(trie.search(\"ball\"))   # Expected: False (since \"ball\" was deleted)\n",
        "\n",
        "test_case_3()"
      ],
      "metadata": {
        "colab": {
          "base_uri": "https://localhost:8080/"
        },
        "id": "ysGVUzW5ilDv",
        "outputId": "defa4294-bc1c-45c1-8592-298fb0fdf2e9"
      },
      "execution_count": 4,
      "outputs": [
        {
          "output_type": "stream",
          "name": "stdout",
          "text": [
            "False\n",
            "True\n",
            "False\n",
            "True\n",
            "False\n"
          ]
        }
      ]
    },
    {
      "cell_type": "code",
      "source": [
        "def test_case_4():\n",
        "    trie = Trie()\n",
        "    trie.insert(\"apple\")\n",
        "    trie.insert(\"app\")\n",
        "    trie.insert(\"bat\")\n",
        "    trie.insert(\"ball\")\n",
        "\n",
        "    print(trie.search_with_wildcard(\"a..le\"))  # Expected: True (\"apple\" matches)\n",
        "    print(trie.search_with_wildcard(\"b.t\"))    # Expected: True (\"bat\" matches)\n",
        "    print(trie.search_with_wildcard(\"ba..\"))   # Expected: True (\"ball\" matches)\n",
        "    print(trie.search_with_wildcard(\".pple\"))  # Expected: True (\"apple\" matches)\n",
        "    print(trie.search_with_wildcard(\".....\"))  # Expected: True (\"apple\" matches)\n",
        "    print(trie.search_with_wildcard(\"...\"))    # Expected: False (No 3-letter word)\n",
        "\n",
        "test_case_4()"
      ],
      "metadata": {
        "colab": {
          "base_uri": "https://localhost:8080/"
        },
        "id": "m8SwoGrFin_g",
        "outputId": "acf4a282-9cf2-4b4d-9e10-a034f752a127"
      },
      "execution_count": 5,
      "outputs": [
        {
          "output_type": "stream",
          "name": "stdout",
          "text": [
            "True\n",
            "True\n",
            "True\n",
            "True\n",
            "True\n",
            "True\n"
          ]
        }
      ]
    }
  ]
}